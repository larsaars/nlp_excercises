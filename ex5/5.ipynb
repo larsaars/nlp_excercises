{
 "cells": [
  {
   "cell_type": "markdown",
   "id": "4d4967ff-d233-4a2a-8de5-5ab0025b143b",
   "metadata": {},
   "source": [
    "## 5.1.1\n",
    "The implementation of edit distance is in the EditDistance.cc file from line 56-90.\n",
    "\n",
    "line 56-61: The first row of the matrix gets filled. It edits the distance from \n",
    "an empty string to the other string. That distance is the number of characters to append to  the empty one to make it the other.\n",
    "\n",
    "line 62- : Now the first column in the matrix gets filled the same way as the first row in the upper lines.\n",
    "\n",
    "line 72- : Now each entry is it's own sub-problem and the action (insert,delete,replace) with the least costs is the distance to this problem. Therefore the distance for the overarching problem is in the last entry.\n"
   ]
  },
  {
   "cell_type": "markdown",
   "id": "95b66b5d-66a3-4b11-9b89-cfef8fafe2c6",
   "metadata": {
    "tags": []
   },
   "source": [
    "### 5.1.2"
   ]
  },
  {
   "cell_type": "code",
   "execution_count": 5,
   "id": "422ded76-3cfa-4927-862c-9819c96c00f4",
   "metadata": {
    "tags": []
   },
   "outputs": [
    {
     "ename": "ModuleNotFoundError",
     "evalue": "No module named '_sequitur_'",
     "output_type": "error",
     "traceback": [
      "\u001b[0;31m---------------------------------------------------------------------------\u001b[0m",
      "\u001b[0;31mModuleNotFoundError\u001b[0m                       Traceback (most recent call last)",
      "Cell \u001b[0;32mIn[5], line 1\u001b[0m\n\u001b[0;32m----> 1\u001b[0m \u001b[38;5;28;01mfrom\u001b[39;00m \u001b[38;5;21;01msequitur_\u001b[39;00m \u001b[38;5;28;01mimport\u001b[39;00m align\n\u001b[1;32m      3\u001b[0m \u001b[38;5;28;01mdef\u001b[39;00m \u001b[38;5;21mphoneme_error_rate\u001b[39m(reference: \u001b[38;5;28mstr\u001b[39m, hypothesis: \u001b[38;5;28mstr\u001b[39m):\n\u001b[1;32m      4\u001b[0m     _, distance \u001b[38;5;241m=\u001b[39m align(reference, hypothesis)\n",
      "File \u001b[0;32m~/sequitur-g2p/sequitur_.py:12\u001b[0m\n\u001b[1;32m     10\u001b[0m     \u001b[38;5;28;01mfrom\u001b[39;00m \u001b[38;5;21;01m.\u001b[39;00m \u001b[38;5;28;01mimport\u001b[39;00m _sequitur_\n\u001b[1;32m     11\u001b[0m \u001b[38;5;28;01melse\u001b[39;00m:\n\u001b[0;32m---> 12\u001b[0m     \u001b[38;5;28;01mimport\u001b[39;00m \u001b[38;5;21;01m_sequitur_\u001b[39;00m\n\u001b[1;32m     14\u001b[0m \u001b[38;5;28;01mtry\u001b[39;00m:\n\u001b[1;32m     15\u001b[0m     \u001b[38;5;28;01mimport\u001b[39;00m \u001b[38;5;21;01mbuiltins\u001b[39;00m \u001b[38;5;28;01mas\u001b[39;00m \u001b[38;5;21;01m__builtin__\u001b[39;00m\n",
      "\u001b[0;31mModuleNotFoundError\u001b[0m: No module named '_sequitur_'"
     ]
    }
   ],
   "source": [
    "from sequitur_ import align\n",
    "\n",
    "def phoneme_error_rate(reference: str, hypothesis: str):\n",
    "    res = align(reference, hypothesis)\n",
    "    return res[1] / len(reference)\n",
    "\n",
    "print(phoneme_error_rate('/r e: g e n s b U r k/', '/r e: g N s b U 6 k/'))"
   ]
  },
  {
   "cell_type": "markdown",
   "id": "43df52fc-2009-4eeb-8b1b-8df2f60d5f21",
   "metadata": {},
   "source": [
    "## 5.2\n",
    "\n",
    "### Control Flow.\n",
    "\n",
    "1. `main()` in `g2p.py`\n",
    "1. SequiturTool --> `procureModel()` with `loadG2PSample`\n",
    "1. `Tool.init()` --> `Tool.procureModel()`\n",
    "1. `sequitur.init()` --> `sequitur.leftinventory = symbolinventory` in `symbols.py` -> `sequitur.inventory = Multigraminventory()` in `sequitur_.py`\n",
    "1. `model = trainmode(model) --> loadSamples() --> loadG2PSample --> load PlainSample()`\n",
    "\n",
    "\n",
    "### Questions\n",
    "\n",
    "In `g2p.py` is a function called `loadPlainSample()` where the `.txt` file is being read line-wise. For each line a tuple a tuple is being created containing the first word of the line and a list of the remaining words (so in effect each tuple contains first a string and as second item a list of strings).\n",
    "\n",
    "These tuples are being returned in an array, which lateron gets seperated in a batch of training and test data.\n",
    "\n",
    "The `compileSample()` function in `sequitur.py` invokes the `parse()` function for each part. In `parse()`, the stored letters are converted into numerical representation by calling the ` index()` function for each letter, which checks if a number has already been assigned to the letter in the dictionary. If a number exists, it is returned; otherwise, a new entry is created. "
   ]
  },
  {
   "cell_type": "markdown",
   "id": "dd231186-3ec1-4a73-b42d-c37b9abdb033",
   "metadata": {},
   "source": []
  }
 ],
 "metadata": {
  "kernelspec": {
   "display_name": "Python 3 (ipykernel)",
   "language": "python",
   "name": "python3"
  },
  "language_info": {
   "codemirror_mode": {
    "name": "ipython",
    "version": 3
   },
   "file_extension": ".py",
   "mimetype": "text/x-python",
   "name": "python",
   "nbconvert_exporter": "python",
   "pygments_lexer": "ipython3",
   "version": "3.10.9"
  }
 },
 "nbformat": 4,
 "nbformat_minor": 5
}
